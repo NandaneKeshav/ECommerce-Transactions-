{
 "cells": [
  {
   "cell_type": "code",
   "execution_count": 1,
   "metadata": {},
   "outputs": [],
   "source": [
    "#Importing Necessary Libraries\n",
    "\n",
    "import pandas as pd\n",
    "from sklearn.metrics.pairwise import cosine_similarity\n",
    "from sklearn.preprocessing import StandardScaler"
   ]
  },
  {
   "cell_type": "code",
   "execution_count": 2,
   "metadata": {},
   "outputs": [],
   "source": [
    "#uploading datasets\n",
    "\n",
    "transactions = pd.read_csv('Transactions.csv')\n",
    "products = pd.read_csv('Products.csv')\n",
    "customers = pd.read_csv('Customers.csv')"
   ]
  },
  {
   "cell_type": "code",
   "execution_count": 3,
   "metadata": {},
   "outputs": [],
   "source": [
    "# Merge datasets\n",
    "transactions_products = transactions.merge(products, on=\"ProductID\", how=\"left\")\n",
    "full_data = transactions_products.merge(customers, on=\"CustomerID\", how=\"left\")"
   ]
  },
  {
   "cell_type": "code",
   "execution_count": 4,
   "metadata": {},
   "outputs": [],
   "source": [
    "# Aggregate transaction history by customer\n",
    "customer_transactions = full_data.groupby(\"CustomerID\").agg(\n",
    "    total_spent=(\"TotalValue\", \"sum\"),\n",
    "    total_quantity=(\"Quantity\", \"sum\"),\n",
    "    product_preference=(\"ProductID\", lambda x: x.mode()[0] if not x.mode().empty else None)\n",
    ").reset_index()"
   ]
  },
  {
   "cell_type": "code",
   "execution_count": 5,
   "metadata": {},
   "outputs": [],
   "source": [
    "# Merge with customer profiles\n",
    "customer_profiles = customers.merge(customer_transactions, on=\"CustomerID\", how=\"left\")"
   ]
  },
  {
   "cell_type": "code",
   "execution_count": 6,
   "metadata": {},
   "outputs": [],
   "source": [
    "# One-hot encode categorical features (Region and Product Preference)\n",
    "customer_profiles_encoded = pd.get_dummies(customer_profiles, columns=[\"Region\", \"product_preference\"], drop_first=True)"
   ]
  },
  {
   "cell_type": "code",
   "execution_count": 7,
   "metadata": {},
   "outputs": [],
   "source": [
    "# Fill missing values with 0 (e.g., for customers with no transactions)\n",
    "customer_profiles_encoded = customer_profiles_encoded.fillna(0)"
   ]
  },
  {
   "cell_type": "code",
   "execution_count": 8,
   "metadata": {},
   "outputs": [],
   "source": [
    "# Standardize features for similarity calculation\n",
    "scaler = StandardScaler()\n",
    "customer_features = scaler.fit_transform(customer_profiles_encoded.drop(columns=[\"CustomerID\", \"CustomerName\", \"SignupDate\"]))"
   ]
  },
  {
   "cell_type": "code",
   "execution_count": 9,
   "metadata": {},
   "outputs": [],
   "source": [
    "# Compute cosine similarity\n",
    "similarity_matrix = cosine_similarity(customer_features)"
   ]
  },
  {
   "cell_type": "code",
   "execution_count": 10,
   "metadata": {},
   "outputs": [],
   "source": [
    "# Map customer IDs to their index in the matrix\n",
    "customer_id_to_index = {cid: idx for idx, cid in enumerate(customer_profiles_encoded[\"CustomerID\"])}"
   ]
  },
  {
   "cell_type": "code",
   "execution_count": 11,
   "metadata": {},
   "outputs": [],
   "source": [
    "# Get the top 3 similar customers for a given customer\n",
    "lookalike_results = {}\n",
    "for customer_id in customers[\"CustomerID\"][:20]:  # First 20 customers (C0001 - C0020)\n",
    "    idx = customer_id_to_index[customer_id]\n",
    "    similarity_scores = list(enumerate(similarity_matrix[idx]))\n",
    "    similarity_scores = sorted(similarity_scores, key=lambda x: x[1], reverse=True)\n",
    "    \n",
    "    # Top 3 similar customers (excluding itself)\n",
    "    top_lookalikes = [\n",
    "        (customers.iloc[sim[0]][\"CustomerID\"], sim[1])\n",
    "        for sim in similarity_scores[1:4]  # Skip the first as it's the customer itself\n",
    "    ]\n",
    "    lookalike_results[customer_id] = top_lookalikes"
   ]
  },
  {
   "cell_type": "code",
   "execution_count": 13,
   "metadata": {},
   "outputs": [
    {
     "name": "stdout",
     "output_type": "stream",
     "text": [
      "Lookalike model completed and results saved to Lookalike.csv.\n"
     ]
    }
   ],
   "source": [
    "# Save results to Lookalike.csv\n",
    "lookalike_data = []\n",
    "for cust_id, lookalikes in lookalike_results.items():\n",
    "    lookalike_data.append({\n",
    "        \"cust_id\": cust_id,\n",
    "        \"lookalikes\": [f\"{lid}:{score:.2f}\" for lid, score in lookalikes]\n",
    "    })\n",
    "\n",
    "lookalike_df = pd.DataFrame(lookalike_data)\n",
    "lookalike_df.to_csv(\"Lookalike.csv\", index=False)\n",
    "\n",
    "print(\"Lookalike model completed and results saved to Lookalike.csv.\")"
   ]
  },
  {
   "cell_type": "code",
   "execution_count": 14,
   "metadata": {},
   "outputs": [
    {
     "name": "stdout",
     "output_type": "stream",
     "text": [
      "Customer ID: C0001, Lookalikes: ['C0025:0.98', 'C0140:0.88', 'C0097:0.82']\n",
      "Customer ID: C0002, Lookalikes: ['C0164:0.93', 'C0030:0.93', 'C0173:0.92']\n",
      "Customer ID: C0003, Lookalikes: ['C0181:1.00', 'C0031:0.99', 'C0186:0.91']\n",
      "Customer ID: C0004, Lookalikes: ['C0175:0.92', 'C0022:0.89', 'C0182:0.82']\n",
      "Customer ID: C0005, Lookalikes: ['C0149:0.94', 'C0023:0.93', 'C0180:0.17']\n",
      "Customer ID: C0006, Lookalikes: ['C0040:0.95', 'C0114:0.89', 'C0058:0.84']\n",
      "Customer ID: C0007, Lookalikes: ['C0112:0.96', 'C0009:0.95', 'C0180:0.13']\n",
      "Customer ID: C0008, Lookalikes: ['C0030:0.98', 'C0173:0.93', 'C0002:0.89']\n",
      "Customer ID: C0009, Lookalikes: ['C0007:0.95', 'C0112:0.92', 'C0019:0.26']\n",
      "Customer ID: C0010, Lookalikes: ['C0034:0.94', 'C0019:0.19', 'C0105:0.12']\n",
      "Customer ID: C0011, Lookalikes: ['C0171:0.99', 'C0073:0.90', 'C0131:0.89']\n",
      "Customer ID: C0012, Lookalikes: ['C0133:0.98', 'C0128:0.88', 'C0191:0.14']\n",
      "Customer ID: C0013, Lookalikes: ['C0021:0.97', 'C0101:0.97', 'C0191:0.14']\n",
      "Customer ID: C0014, Lookalikes: ['C0019:0.16', 'C0180:0.14', 'C0121:0.08']\n",
      "Customer ID: C0015, Lookalikes: ['C0126:0.92', 'C0036:0.24', 'C0024:0.16']\n",
      "Customer ID: C0016, Lookalikes: ['C0046:0.98', 'C0190:0.92', 'C0024:0.21']\n",
      "Customer ID: C0017, Lookalikes: ['C0105:0.95', 'C0019:0.63', 'C0045:0.57']\n",
      "Customer ID: C0018, Lookalikes: ['C0026:0.99', 'C0049:0.99', 'C0024:0.22']\n",
      "Customer ID: C0019, Lookalikes: ['C0105:0.75', 'C0017:0.63', 'C0121:0.38']\n",
      "Customer ID: C0020, Lookalikes: ['C0036:0.18', 'C0180:0.12', 'C0024:0.11']\n",
      "Lookalike model completed and results saved to Lookalike.csv.\n"
     ]
    }
   ],
   "source": [
    "# Print results\n",
    "for index, row in lookalike_df.iterrows():\n",
    "    print(f\"Customer ID: {row['cust_id']}, Lookalikes: {row['lookalikes']}\")\n",
    "\n",
    "print(\"Lookalike model completed and results saved to Lookalike.csv.\")"
   ]
  },
  {
   "cell_type": "code",
   "execution_count": null,
   "metadata": {},
   "outputs": [],
   "source": []
  }
 ],
 "metadata": {
  "kernelspec": {
   "display_name": "Python 3",
   "language": "python",
   "name": "python3"
  },
  "language_info": {
   "codemirror_mode": {
    "name": "ipython",
    "version": 3
   },
   "file_extension": ".py",
   "mimetype": "text/x-python",
   "name": "python",
   "nbconvert_exporter": "python",
   "pygments_lexer": "ipython3",
   "version": "3.13.1"
  }
 },
 "nbformat": 4,
 "nbformat_minor": 2
}
